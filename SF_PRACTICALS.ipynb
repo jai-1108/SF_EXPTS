{
  "nbformat": 4,
  "nbformat_minor": 0,
  "metadata": {
    "colab": {
      "provenance": []
    },
    "kernelspec": {
      "name": "python3",
      "display_name": "Python 3"
    },
    "language_info": {
      "name": "python"
    }
  },
  "cells": [
    {
      "cell_type": "code",
      "execution_count": 8,
      "metadata": {
        "colab": {
          "base_uri": "https://localhost:8080/"
        },
        "id": "ht2z-I0oQ0xG",
        "outputId": "1100f72c-0496-427f-c4a5-a74fd04e5598"
      },
      "outputs": [
        {
          "output_type": "stream",
          "name": "stdout",
          "text": [
            "Enter page reference string (separated by spaces): 7 0 1 2 0 3 0 4 2 3 0 3 2\n",
            "Enter number of page frames: 4\n",
            "Number of hits: 7\n",
            "Number of page faults: 6\n",
            "Hit ratio: 0.5384615384615384\n"
          ]
        }
      ],
      "source": [
        "def lru(page_ref, num_frames):\n",
        "    frames = [-1] * num_frames\n",
        "    faults = 0\n",
        "    hit = 0\n",
        "    lru_order = []\n",
        "    \n",
        "    for page in page_ref:\n",
        "        if page in frames:\n",
        "            hit += 1\n",
        "            lru_order.remove(page)\n",
        "        else:\n",
        "            if -1 in frames:\n",
        "                idx = frames.index(-1)\n",
        "            else:\n",
        "                lru_page = lru_order.pop(0)\n",
        "                idx = frames.index(lru_page)\n",
        "            frames[idx] = page\n",
        "            faults += 1\n",
        "        lru_order.append(page)\n",
        "    \n",
        "    hit_ratio = hit / len(page_ref)\n",
        "    return faults, hit_ratio, hit\n",
        "\n",
        "\n",
        "page_ref = list(map(int, input(\"Enter page reference string (separated by spaces): \").split()))\n",
        "num_frames = int(input(\"Enter number of page frames: \"))\n",
        "\n",
        "faults, hit_ratio, hit = lru(page_ref, num_frames)\n",
        "\n",
        "print(\"Number of hits:\", hit)\n",
        "print(\"Number of page faults:\", faults)\n",
        "print(\"Hit ratio:\", hit_ratio)"
      ]
    },
    {
      "cell_type": "code",
      "source": [
        "def optimal(page_ref, num_frames):\n",
        "    frames = [-1] * num_frames\n",
        "    faults = 0\n",
        "    hit = 0\n",
        "    for i in range(len(page_ref)):\n",
        "        if page_ref[i] not in frames:\n",
        "            faults += 1\n",
        "            if len(frames) < num_frames:\n",
        "                frames.append(page_ref[i])\n",
        "            else:\n",
        "                distances = []\n",
        "                for j in range(len(frames)):\n",
        "                    if frames[j] in page_ref[i+1:]:\n",
        "                        distances.append(page_ref[i+1:].index(frames[j]))\n",
        "                    else:\n",
        "                        distances.append(len(page_ref))\n",
        "                frames[distances.index(max(distances))] = page_ref[i]\n",
        "    hit = len(page_ref) - faults\n",
        "    return hit,faults\n",
        "\n",
        "\n",
        "page_ref = list(map(int, input(\"Enter page reference string (separated by spaces): \").split()))\n",
        "num_frames = int(input(\"Enter number of page frames: \"))\n",
        "\n",
        "hit, faults = optimal(page_ref, num_frames)\n",
        "\n",
        "print(\"Number of hits:\", hit)\n",
        "print(\"Number of page faults:\", faults)\n",
        "hit_ratio = hit / (hit + faults)\n",
        "print(\"Hit_ratio:\", hit_ratio)"
      ],
      "metadata": {
        "colab": {
          "base_uri": "https://localhost:8080/"
        },
        "id": "6TL-UrYSRCRm",
        "outputId": "acde02bd-9dd5-48a8-db1d-c27f94c38f81"
      },
      "execution_count": 16,
      "outputs": [
        {
          "output_type": "stream",
          "name": "stdout",
          "text": [
            "Enter page reference string (separated by spaces): 7 0 1 2 0 3 0 4 2 3 0 3 2\n",
            "Enter number of page frames: 4\n",
            "Number of hits: 7\n",
            "Number of page faults: 6\n",
            "Hit_ratio: 0.5384615384615384\n"
          ]
        }
      ]
    },
    {
      "cell_type": "code",
      "source": [
        "def fifo(page_ref, num_frames):\n",
        "    frame_set = set()\n",
        "    frame_queue = []\n",
        "    faults = 0\n",
        "    hit = 0\n",
        "    for page in page_ref:\n",
        "        if page in frame_set:\n",
        "            hit += 1\n",
        "        else:\n",
        "            if len(frame_queue) == num_frames:\n",
        "                oldest_page = frame_queue.pop(0)\n",
        "                frame_set.remove(oldest_page)\n",
        "            frame_set.add(page)\n",
        "            frame_queue.append(page)\n",
        "            faults += 1\n",
        "    return hit, faults\n",
        "\n",
        "page_ref = list(map(int, input(\"Enter page reference string (separated by spaces): \").split()))\n",
        "num_frames = int(input(\"Enter number of page frames: \"))\n",
        "\n",
        "hit, faults = fifo(page_ref, num_frames)\n",
        "\n",
        "print(\"Number of page faults using FIFO algorithm:\", faults)\n",
        "print(\"Number of page hits using FIFO algorithm:\", hit)\n",
        "hit_ratio = hit / len(page_ref)\n",
        "print(\"Hit ratio using FIFO algorithm:\", hit_ratio)"
      ],
      "metadata": {
        "id": "U9cu9Ylt4eUm"
      },
      "execution_count": null,
      "outputs": []
    },
    {
      "cell_type": "code",
      "source": [
        "#FCFS CPU SCHEDULING\n",
        "class Process:\n",
        "    def __init__(self,process_id,at,bt):\n",
        "        self.process_id= process_id\n",
        "        self.at = at\n",
        "        self.bt = bt\n",
        "def fcfs(processes):\n",
        "    n = len(processes)\n",
        "    ct = [0] * n\n",
        "    tat = [0] * n\n",
        "    wt = [0] * n\n",
        "        \n",
        "    ct[0] = processes[0].bt\n",
        "    for i in range(1,n):\n",
        "        ct[i] = ct[i-1] + processes[i].bt\n",
        "    for i in range(n):\n",
        "        tat[i] = ct[i] - processes[i].at\n",
        "        wt[i] = tat[i] - processes[i].bt\n",
        "        \n",
        "    avg_tat = sum(tat) / n\n",
        "    avg_wt  = sum(wt) / n\n",
        "    \n",
        "    print(\"PID\\t\\tAT\\t\\tBT\\t\\tCT\\t\\tTAT\\t\\tWT\")\n",
        "    for i in range(n):\n",
        "        print(f\"{processes[i].process_id}\\t\\t{processes[i].at}\\t\\t{processes[i].bt}\\t\\t{ct[i]}\\t\\t{tat[i]}\\t\\t{wt[i]}\")\n",
        "    print(\"Avg tat: \", avg_tat)\n",
        "    print(\"Avg wt: \", avg_wt)\n",
        "    \n",
        "processes = [\n",
        "    Process(1, 0, 3),\n",
        "    Process(2, 1, 5),\n",
        "    Process(3, 3, 2),\n",
        "    Process(4, 9, 5),\n",
        "    Process(5, 12, 5)\n",
        "]\n",
        "\n",
        "fcfs(processes)"
      ],
      "metadata": {
        "colab": {
          "base_uri": "https://localhost:8080/"
        },
        "id": "pyiysFuy6hJO",
        "outputId": "b69b286a-f1a5-4f09-bb7b-ce3fe7097856"
      },
      "execution_count": 7,
      "outputs": [
        {
          "output_type": "stream",
          "name": "stdout",
          "text": [
            "PID\t\tAT\t\tBT\t\tCT\t\tTAT\t\tWT\n",
            "1\t\t0\t\t3\t\t3\t\t3\t\t0\n",
            "2\t\t1\t\t5\t\t8\t\t7\t\t2\n",
            "3\t\t3\t\t2\t\t10\t\t7\t\t5\n",
            "4\t\t9\t\t5\t\t15\t\t6\t\t1\n",
            "5\t\t12\t\t5\t\t20\t\t8\t\t3\n",
            "Avg tat:  6.2\n",
            "Avg wt:  2.2\n"
          ]
        }
      ]
    },
    {
      "cell_type": "code",
      "source": [
        "#SJF CPU SCHEDULING\n",
        "class Process:\n",
        "    def __init__(self,process_id,at,bt):\n",
        "        self.process_id= process_id\n",
        "        self.at = at\n",
        "        self.bt = bt\n",
        "def sjf(processes):\n",
        "    processes.sort(key = lambda x: (x.at, x.bt))\n",
        "    n = len(processes)\n",
        "    ct = [0] * n\n",
        "    tat = [0] * n\n",
        "    wt = [0] * n\n",
        "        \n",
        "    ct[0] = processes[0].bt\n",
        "    for i in range(1,n):\n",
        "        ct[i] = ct[i-1] + processes[i].bt\n",
        "    for i in range(n):\n",
        "        tat[i] = ct[i] - processes[i].at\n",
        "        wt[i] = tat[i] - processes[i].bt\n",
        "        \n",
        "    avg_tat = sum(tat) / n\n",
        "    avg_wt  = sum(wt) / n\n",
        "    \n",
        "    print(\"PID\\t\\tAT\\t\\tBT\\t\\tCT\\t\\tTAT\\t\\tWT\")\n",
        "    for i in range(n):\n",
        "        print(f\"{processes[i].process_id}\\t\\t{processes[i].at}\\t\\t{processes[i].bt}\\t\\t{ct[i]}\\t\\t{tat[i]}\\t\\t{wt[i]}\")\n",
        "    print(\"Avg tat: \", avg_tat)\n",
        "    print(\"Avg wt: \", avg_wt)\n",
        "    \n",
        "processes = [\n",
        "    Process(1, 0, 3),\n",
        "    Process(2, 0, 4),\n",
        "    Process(3, 0, 3)\n",
        "]\n",
        "\n",
        "sjf(processes)"
      ],
      "metadata": {
        "colab": {
          "base_uri": "https://localhost:8080/"
        },
        "id": "KFCSlG6L1soE",
        "outputId": "dfdb1a4e-6f8f-4da5-8613-2cc8b0647415"
      },
      "execution_count": 10,
      "outputs": [
        {
          "output_type": "stream",
          "name": "stdout",
          "text": [
            "PID\t\tAT\t\tBT\t\tCT\t\tTAT\t\tWT\n",
            "1\t\t0\t\t3\t\t3\t\t3\t\t0\n",
            "3\t\t0\t\t3\t\t6\t\t6\t\t3\n",
            "2\t\t0\t\t4\t\t10\t\t10\t\t6\n",
            "Avg tat:  6.333333333333333\n",
            "Avg wt:  3.0\n"
          ]
        }
      ]
    },
    {
      "cell_type": "code",
      "source": [
        "#Non-preemptive priority\n",
        "class Process:\n",
        "    def __init__(self, process_id, burst_time, priority):\n",
        "        self.process_id = process_id\n",
        "        self.burst_time = burst_time\n",
        "        self.priority = priority\n",
        "\n",
        "def non_preemptive_priority_scheduling(processes):\n",
        "    # Sort the processes based on priority (lower number = higher priority)\n",
        "    processes.sort(key=lambda x: x.priority)\n",
        "\n",
        "    completion_time = [0] * len(processes)\n",
        "    turnaround_time = [0] * len(processes)\n",
        "    waiting_time = [0] * len(processes)\n",
        "\n",
        "    completion_time[0] = processes[0].burst_time\n",
        "    for i in range(1, len(processes)):\n",
        "        completion_time[i] = completion_time[i - 1] + processes[i].burst_time\n",
        "\n",
        "    for i in range(len(processes)):\n",
        "        turnaround_time[i] = completion_time[i]\n",
        "        waiting_time[i] = turnaround_time[i] - processes[i].burst_time\n",
        "\n",
        "    total_turnaround_time = sum(turnaround_time)\n",
        "    total_waiting_time = sum(waiting_time)\n",
        "    average_turnaround_time = total_turnaround_time / len(processes)\n",
        "    average_waiting_time = total_waiting_time / len(processes)\n",
        "\n",
        "    # Print the results\n",
        "    print(\"Process\\tBurst Time\\tPriority\\tCompletion Time\\tTurnaround Time\\tWaiting Time\")\n",
        "    for i in range(len(processes)):\n",
        "        print(f\"{processes[i].process_id}\\t\\t{processes[i].burst_time}\\t\\t{processes[i].priority}\\t\\t\"\n",
        "              f\"{completion_time[i]}\\t\\t{turnaround_time[i]}\\t\\t{waiting_time[i]}\")\n",
        "    print(\"Average Turnaround Time:\", average_turnaround_time)\n",
        "    print(\"Average Waiting Time:\", average_waiting_time)\n",
        "\n",
        "# Example usage\n",
        "processes = [\n",
        "    Process(1, 9, 2),\n",
        "    Process(2, 4, 1),\n",
        "    Process(3, 9, 3)\n",
        "]\n",
        "\n",
        "non_preemptive_priority_scheduling(processes)"
      ],
      "metadata": {
        "colab": {
          "base_uri": "https://localhost:8080/"
        },
        "id": "RAinCsYu81Zo",
        "outputId": "e251a050-3774-43e6-f03a-871081b60215"
      },
      "execution_count": 11,
      "outputs": [
        {
          "output_type": "stream",
          "name": "stdout",
          "text": [
            "Process\tBurst Time\tPriority\tCompletion Time\tTurnaround Time\tWaiting Time\n",
            "2\t\t4\t\t1\t\t4\t\t4\t\t0\n",
            "1\t\t9\t\t2\t\t13\t\t13\t\t4\n",
            "3\t\t9\t\t3\t\t22\t\t22\t\t13\n",
            "Average Turnaround Time: 13.0\n",
            "Average Waiting Time: 5.666666666666667\n"
          ]
        }
      ]
    },
    {
      "cell_type": "code",
      "source": [
        "#First fit\n",
        "def firstFit(blockSize,processSize):\n",
        "  n = len(blockSize)\n",
        "  m = len(processSize)\n",
        "  allocation = [-1]*m \n",
        "  for i in range(m):\n",
        "    for j in range(n):\n",
        "      if blockSize[j] >= processSize[i]:\n",
        "        allocation[i] = j\n",
        "        blockSize[j] -= processSize[i]\n",
        "        break\n",
        "\n",
        "  print(\"Process No. \\t Process Size \\t Block No.\")\n",
        "  for i in range(m):\n",
        "    print(i+1,\"\\t\\t\",processSize[i],end='\\t\\t\\t')\n",
        "    if allocation[i] != -1:\n",
        "      print(allocation[i] + 1)\n",
        "    else:\n",
        "      print(\"No block allocated\")\n",
        "blockSize = list(map(int, input(\"Enter the block size list: \").split()))\n",
        "processSize = list(map(int, input(\"Enter the process size list: \").split()))\n",
        "firstFit(blockSize,processSize)"
      ],
      "metadata": {
        "colab": {
          "base_uri": "https://localhost:8080/"
        },
        "id": "7PUqsGHgAY_5",
        "outputId": "b3e2992e-1d69-4cff-85e6-74d51bbee514"
      },
      "execution_count": 14,
      "outputs": [
        {
          "output_type": "stream",
          "name": "stdout",
          "text": [
            "Enter the block size list: 100 500 200 300 600\n",
            "Enter the process size list: 212 417 112 426\n",
            "Process No. \t Process Size \t Block No.\n",
            "1 \t\t 212\t\t\t2\n",
            "2 \t\t 417\t\t\t5\n",
            "3 \t\t 112\t\t\t2\n",
            "4 \t\t 426\t\t\tNo block allocated\n"
          ]
        }
      ]
    },
    {
      "cell_type": "code",
      "source": [
        "# Best Fit\n",
        "def bestFit(blockSize,processSize):\n",
        "  n = len(blockSize)\n",
        "  m = len(processSize)\n",
        "  allocation = [-1]*m\n",
        "  for i in range(m):\n",
        "    bestIndex = -1\n",
        "    minDiff = float('inf')\n",
        "    for j in range(n):\n",
        "      if blockSize[j] >= processSize[i]:\n",
        "        diff = blockSize[j]-processSize[i]\n",
        "        if diff < minDiff:\n",
        "          bestIndex = j\n",
        "          minDiff = diff\n",
        "    if bestIndex != -1:\n",
        "      allocation[i] = bestIndex\n",
        "      blockSize[bestIndex] -= processSize[i]\n",
        "  print(\"Process No. \\t Process Size \\t Block No.\")\n",
        "  for i in range(m):\n",
        "    print(i+1,\"\\t\\t\",processSize[i],end='\\t\\t\\t')\n",
        "    if allocation[i] != -1:\n",
        "      print(allocation[i] + 1)\n",
        "    else:\n",
        "      print(\"No block allocated\")  \n",
        "\n",
        "\n",
        "blockSize = list(map(int, input(\"Enter the block size list: \").split()))\n",
        "processSize = list(map(int, input(\"Enter the process size list: \").split()))\n",
        "bestFit(blockSize,processSize)"
      ],
      "metadata": {
        "colab": {
          "base_uri": "https://localhost:8080/"
        },
        "id": "zgtv88SkEzsr",
        "outputId": "723c5419-7be6-4d5f-adc9-f0e53465e6f6"
      },
      "execution_count": 15,
      "outputs": [
        {
          "output_type": "stream",
          "name": "stdout",
          "text": [
            "Enter the block size list: 100 500 200 300 600\n",
            "Enter the process size list: 212 417 112 426\n",
            "Process No. \t Process Size \t Block No.\n",
            "1 \t\t 212\t\t\t4\n",
            "2 \t\t 417\t\t\t2\n",
            "3 \t\t 112\t\t\t3\n",
            "4 \t\t 426\t\t\t5\n"
          ]
        }
      ]
    },
    {
      "cell_type": "code",
      "source": [
        "def worstFit(blockSize,processSize):\n",
        "  n = len(blockSize)\n",
        "  m = len(processSize)\n",
        "  allocation = [-1]*m\n",
        "  for i in range(m):\n",
        "    worstIndex = -1\n",
        "    for j in range(n):\n",
        "      if blockSize[j] >= processSize[i]:\n",
        "        if worstIndex == -1:\n",
        "          worstIndex = j\n",
        "        elif blockSize[worstIndex] < blockSize[j]:\n",
        "          worstIndex = j\n",
        "    if worstIndex != -1:\n",
        "      allocation[i] = worstIndex\n",
        "      blockSize[worstIndex] -= processSize[i]\n",
        "  print(\"Process No. \\t Process Size \\t Block No.\")\n",
        "  for i in range(m):\n",
        "    print(i+1,\"\\t\\t\",processSize[i],end='\\t\\t\\t')\n",
        "    if allocation[i] != -1:\n",
        "      print(allocation[i] + 1)\n",
        "    else:\n",
        "      print(\"No block allocated\")  \n",
        "\n",
        "blockSize = list(map(int, input(\"Enter the block size list: \").split()))\n",
        "processSize = list(map(int, input(\"Enter the process size list: \").split()))\n",
        "bestFit(blockSize,processSize)   "
      ],
      "metadata": {
        "colab": {
          "base_uri": "https://localhost:8080/"
        },
        "id": "cqFRLLs0KHjN",
        "outputId": "c9f80764-d0e0-4f3d-87bb-ceb78fcf3608"
      },
      "execution_count": 16,
      "outputs": [
        {
          "output_type": "stream",
          "name": "stdout",
          "text": [
            "Enter the block size list: 100 500 200 300 600\n",
            "Enter the process size list: 212 417 112 426\n",
            "Process No. \t Process Size \t Block No.\n",
            "1 \t\t 212\t\t\t4\n",
            "2 \t\t 417\t\t\t2\n",
            "3 \t\t 112\t\t\t3\n",
            "4 \t\t 426\t\t\t5\n"
          ]
        }
      ]
    },
    {
      "cell_type": "code",
      "source": [
        "def FCFS(requests,head):\n",
        "  sequence = [head]+requests\n",
        "  seekTime=sum(abs(sequence[i+1]-sequence[i])for i in range(len(sequence)-1))\n",
        "  return seekTime,sequence\n",
        "     \n",
        "n = 200\n",
        "head = 55\n",
        "requests = [93, 176, 42, 148, 27, 14, 180]\n",
        "seekTime, sequence = FCFS(requests,head)\n",
        "print(\"Total seek time:\", seekTime)\n",
        "print(\"Sequence:\", sequence)"
      ],
      "metadata": {
        "colab": {
          "base_uri": "https://localhost:8080/"
        },
        "id": "r4rtYowLcCnR",
        "outputId": "0db9f1f6-eae4-44ee-8293-41898588aba8"
      },
      "execution_count": 23,
      "outputs": [
        {
          "output_type": "stream",
          "name": "stdout",
          "text": [
            "Total seek time: 661\n",
            "Sequence: [55, 93, 176, 42, 148, 27, 14, 180]\n"
          ]
        }
      ]
    },
    {
      "cell_type": "code",
      "source": [
        "def SSTF(requests, head):\n",
        "    total_seek_time = 0\n",
        "    sequence = []\n",
        "    \n",
        "    while requests:\n",
        "        closest_request = min(requests, key=lambda x: abs(x-head))\n",
        "        sequence.append(head)\n",
        "        total_seek_time += abs(closest_request - head)\n",
        "        head = closest_request\n",
        "        requests.remove(closest_request)\n",
        "        \n",
        "    return total_seek_time,sequence\n",
        "n = 200\n",
        "head = 50\n",
        "requests = [82, 170, 43, 140, 24, 16, 190]\n",
        "seekTime,sequence = SSTF(requests,head)\n",
        "print(\"Total seek time:\", seekTime)\n",
        "print(\"Seek sequence:\", sequence)\n",
        "     "
      ],
      "metadata": {
        "colab": {
          "base_uri": "https://localhost:8080/"
        },
        "id": "T_YlZRWLcTPz",
        "outputId": "90ee5e3d-4bbc-4565-cac7-5ec52771c204"
      },
      "execution_count": 24,
      "outputs": [
        {
          "output_type": "stream",
          "name": "stdout",
          "text": [
            "Total seek time: 208\n",
            "Seek sequence: [50, 43, 24, 16, 82, 140, 170]\n"
          ]
        }
      ]
    },
    {
      "cell_type": "code",
      "source": [
        "def SCAN(head,n,request):\n",
        "  sequence = sorted(requests)\n",
        "  if head in sequence:\n",
        "    sequence.remove(head)\n",
        "  sequence = [head]+[i for i in sequence if i>head]+[n]+[i for i in reversed(sequence) if i<head]\n",
        "  seekTime=sum(abs(sequence[i+1]-sequence[i])for i in range(len(sequence)-1))\n",
        "  return seekTime,sequence\n",
        "requests = [95, 180, 34, 119, 11, 123, 62, 64]\n",
        "head = 50\n",
        "n = 199\n",
        "\n",
        "seekTime, sequence = SCAN(head,n,requests)\n",
        "\n",
        "print(\"Total seek time:\", seekTime)\n",
        "print(\"Seek sequence:\", sequence)"
      ],
      "metadata": {
        "colab": {
          "base_uri": "https://localhost:8080/"
        },
        "id": "CUXwkVGIcbFZ",
        "outputId": "b28247fc-7510-4590-cdd5-fcdafa6c9568"
      },
      "execution_count": 29,
      "outputs": [
        {
          "output_type": "stream",
          "name": "stdout",
          "text": [
            "Total seek time: 337\n",
            "Seek sequence: [50, 62, 64, 95, 119, 123, 180, 199, 34, 11]\n"
          ]
        }
      ]
    },
    {
      "cell_type": "code",
      "source": [
        "def C_SCAN(head,n,request):\n",
        "  sequence = sorted(requests)\n",
        "  if head in sequence:\n",
        "    sequence.remove(head)\n",
        "  sequence = [head]+[i for i in sequence if i>head]+[n]+[0]+[i for i in sequence if i<head]\n",
        "  seekTime=sum(abs(sequence[i+1]-sequence[i])for i in range(len(sequence)-1))\n",
        "  return seekTime,sequence\n",
        "requests = [95, 180, 34, 119, 11, 123, 62, 64]\n",
        "head = 50\n",
        "n = 199\n",
        "\n",
        "seekTime, sequence = C_SCAN(head,n,requests)\n",
        "\n",
        "print(\"Total seek time:\", seekTime)\n",
        "print(\"Seek sequence:\", sequence)"
      ],
      "metadata": {
        "colab": {
          "base_uri": "https://localhost:8080/"
        },
        "id": "q3akkTCzgfpg",
        "outputId": "4dffb97e-bdde-4919-e05c-12b5607790ea"
      },
      "execution_count": 32,
      "outputs": [
        {
          "output_type": "stream",
          "name": "stdout",
          "text": [
            "Total seek time: 382\n",
            "Seek sequence: [50, 62, 64, 95, 119, 123, 180, 199, 0, 11, 34]\n"
          ]
        }
      ]
    },
    {
      "cell_type": "code",
      "source": [
        "def LOOK(head,n,request):\n",
        "  sequence = sorted(requests)\n",
        "  if head in sequence:\n",
        "    sequence.remove(head)\n",
        "  sequence=[head]+[i for i in sequence if i > head] + [i for i in reversed(sequence) if i < head]\n",
        "  seekTime=sum(abs(sequence[i+1]-sequence[i])for i in range(len(sequence)-1))\n",
        "  return seekTime,sequence\n",
        "requests = [95, 180, 34, 119, 11, 123, 62, 64]\n",
        "head = 50\n",
        "n = 199\n",
        "\n",
        "seekTime, seekSequence = LOOK(head,n,requests)\n",
        "\n",
        "print(\"Total seek time:\", seekTime)\n",
        "print(\"Seek sequence:\", seekSequence)"
      ],
      "metadata": {
        "colab": {
          "base_uri": "https://localhost:8080/"
        },
        "id": "wnybubX_hnuV",
        "outputId": "3095a1a5-057f-41cb-d9ca-4ecae07959f2"
      },
      "execution_count": 33,
      "outputs": [
        {
          "output_type": "stream",
          "name": "stdout",
          "text": [
            "Total seek time: 299\n",
            "Seek sequence: [50, 62, 64, 95, 119, 123, 180, 34, 11]\n"
          ]
        }
      ]
    },
    {
      "cell_type": "code",
      "source": [
        "#b1\n",
        "n = int(input(\"Enter the number of processes: \"))\n",
        "r = int(input(\"Enter the number of resources: \"))\n",
        "\n",
        "def calculateNeed(need,max,allocation):\n",
        "  for i in range(n):\n",
        "    for j in range(r):\n",
        "      need[i][j] =  max[i][j] - allocation[i][j]\n",
        "\n",
        "def bankers(processes,available,max,allocation):\n",
        "  #initializing the need matrix with all 0's\n",
        "  need = []\n",
        "  for i in range(n):\n",
        "    l = []\n",
        "    for j in range(r):\n",
        "      l.append(0)\n",
        "    need.append(l)\n",
        "  #calculating the need of each process and updating the need matrix\n",
        "  calculateNeed(need,max,allocation)\n",
        "\n",
        "  #making a copy of available resource\n",
        "  work = [0]*r\n",
        "  for i in range(r):\n",
        "    work[i] = available[i]\n",
        "\n",
        "  #initializing the finish array and safe sequence array\n",
        "  finished = [0]*n\n",
        "  safeSeq = [0]*n\n",
        "\n",
        "  #while our count is less than the number of processes i.e. all processes are not finished\n",
        "  count = 0\n",
        "  while(count < n):\n",
        "    found = False\n",
        "    for i in range(n):\n",
        "      # first we check if the process is not finished i.e. finished[i] == 0\n",
        "      if(finished[i] == 0):\n",
        "        for j in range(r):\n",
        "          #if our need is greater than the available resources break\n",
        "          if need[i][j] > work[j]:\n",
        "            break\n",
        "        if j == r-1:\n",
        "          for k in range(r):\n",
        "            work[k] += allocation[i][k]\n",
        "          safeSeq[count] = i\n",
        "          count += 1\n",
        "          finished[i] = 1\n",
        "          found = True\n",
        "\n",
        "    # if we could not find a safe process\n",
        "    if found == False:\n",
        "      print(\"System is in unsafe state\")\n",
        "      return False\n",
        "\n",
        "  #if we exit the while loop without breaking or returning false in between it means the system is in safe state\n",
        "  print(\"System is in safe state\")\n",
        "  print(\"Safe Sequence: \",safeSeq)\n",
        "  for i in range(len(safeSeq)):\n",
        "    print(\"P\"+str(safeSeq[i]),end=\" \")\n",
        "  print(\"\\n\")\n",
        "\n",
        "#process array user input\n",
        "processes = list(map(int, input(\"Enter the processes: \").split()))\n",
        "\n",
        "#available matrix user input\n",
        "available = []\n",
        "print(\"Enter the available matrix: \")\n",
        "for i in range(r):\n",
        "  a = int(input())\n",
        "  available.append(a)\n",
        "\n",
        "#maximum matrix user input\n",
        "max = []\n",
        "print(\"Enter the maximum matrix: \")\n",
        "for i in range(n):\n",
        "  m = list(map(int, input().split()))\n",
        "  max.append(m)\n",
        "\n",
        "#allocation matrix user input\n",
        "allocation = []\n",
        "print(\"Enter the allocation matrix: \")\n",
        "for i in range(n):\n",
        "  al = list(map(int, input().split()))\n",
        "  allocation.append(al)\n",
        "\n",
        "bankers(processes,available,max,allocation)"
      ],
      "metadata": {
        "colab": {
          "base_uri": "https://localhost:8080/"
        },
        "id": "YrYHTZ8_h6Vr",
        "outputId": "8acdfdc5-2759-4ad1-98b7-7fbcc3fcb9e6"
      },
      "execution_count": 35,
      "outputs": [
        {
          "output_type": "stream",
          "name": "stdout",
          "text": [
            "Enter the number of processes: 5\n",
            "Enter the number of resources: 3\n",
            "Enter the processes: 0 1 2 3 4\n",
            "Enter the available matrix: \n",
            "2 \n",
            "1 \n",
            "0\n",
            "Enter the maximum matrix: \n",
            "4 3 3\n",
            "3 2 2 \n",
            "9 0 2\n",
            "7 5 3\n",
            "1 1 2\n",
            "Enter the allocation matrix: \n",
            "1 1 2\n",
            "1 1 2\n",
            "4 0 1\n",
            "0 2 0\n",
            "2 1 2\n",
            "System is in safe state\n",
            "Safe Sequence:  [1, 4, 0, 2, 3]\n",
            "P1 P4 P0 P2 P3 \n",
            "\n"
          ]
        }
      ]
    },
    {
      "cell_type": "code",
      "source": [
        "#bankers algorithm\n",
        "import numpy as np\n",
        "\n",
        "no_of_processes = 5\n",
        "no_of_requests = 3\n",
        "Sequence = np.zeros((no_of_processes,),dtype=int)\n",
        "visited = np.zeros((no_of_processes,),dtype=int)\n",
        "allocated = np.array([[0, 1, 0], [2, 0, 0],\n",
        "             [3, 0, 2], [2, 1, 1],\n",
        "             [0, 0, 2]])\n",
        "maximum = np.array([[7, 5, 3], [3, 2, 2],\n",
        "            [9, 0, 2], [2, 2, 2],\n",
        "            [4, 3, 3]])\n",
        "needed = maximum - allocated\n",
        "available = np.array([3, 3, 2])\n",
        "\n",
        "def check(i):\n",
        "    for j in range(no_of_requests):\n",
        "        if(needed[i][j]>available[j]):\n",
        "            return 0\n",
        "    return 1\n",
        "\n",
        "count = 0\n",
        "while( count < no_of_processes ):\n",
        "    temp=0\n",
        "    for i in range( no_of_processes ):\n",
        "        if( visited[i] == 0 ):\n",
        "            if(check(i)):\n",
        "                Sequence[count]=i;\n",
        "                count+=1\n",
        "                visited[i]=1\n",
        "                temp=1\n",
        "                for j in range(no_of_requests):\n",
        "                    available[j] += allocated[i][j] \n",
        "    if(temp == 0):\n",
        "        break\n",
        "if(count < no_of_processes):\n",
        "    print('The system is Unsafe')\n",
        "else:\n",
        "    print(\"The system is Safe\")\n",
        "    print(\"Safe Sequence: \",Sequence)\n",
        "    print(\"Available Resource:\",available)"
      ],
      "metadata": {
        "colab": {
          "base_uri": "https://localhost:8080/"
        },
        "id": "djQufwTPl6n9",
        "outputId": "251fab22-b49a-423b-9fca-e58aa8929ae2"
      },
      "execution_count": 36,
      "outputs": [
        {
          "output_type": "stream",
          "name": "stdout",
          "text": [
            "The system is Safe\n",
            "Safe Sequence:  [1 3 4 0 2]\n",
            "Available Resource: [10  5  7]\n"
          ]
        }
      ]
    },
    {
      "cell_type": "code",
      "source": [
        "#b3\n",
        "n=5\n",
        "m=3\n",
        "alloc=[[0,1,0],[2,0,0],[3,0,2],[2,1,1],[0,0,2]]\n",
        "max=[[7, 5, 3], [3, 2, 2], [9, 0, 2], [2, 2, 2], [4, 3, 3]]\n",
        "avail=[3,3,2]\n",
        "f=[0]*n\n",
        "ans=[]\n",
        "need=[[max[i][j]-alloc[i][j] for j in range(m)]for i in range(n)]\n",
        "for k in range(n):\n",
        "  for i in range(n):\n",
        "    if f[i]==0 and all(need[i][j]<=avail[j] for j in range(m)):\n",
        "      ans.append(i)\n",
        "      f[i]=1\n",
        "      for y in range(m):\n",
        "        avail[y]+=alloc[i][y]\n",
        "  if len(ans)==n:\n",
        "    print(\"The system is Safe\")\n",
        "    print(\"safe sequence is:\", ans)\n",
        "    print(\"Available Resource:\",available)\n",
        "    break\n",
        "else:\n",
        "  print(\"not safe\")"
      ],
      "metadata": {
        "colab": {
          "base_uri": "https://localhost:8080/"
        },
        "id": "T9gI0o5anRz5",
        "outputId": "710da4dc-4ce4-497f-c789-b736cc527837"
      },
      "execution_count": 38,
      "outputs": [
        {
          "output_type": "stream",
          "name": "stdout",
          "text": [
            "The system is Safe\n",
            "safe sequence is: [1, 3, 4, 0, 2]\n",
            "Available Resource: [10  5  7]\n"
          ]
        }
      ]
    }
  ]
}