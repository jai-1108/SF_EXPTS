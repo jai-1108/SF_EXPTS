{
 "cells": [
  {
   "cell_type": "code",
   "execution_count": 8,
   "metadata": {
    "colab": {
     "base_uri": "https://localhost:8080/"
    },
    "id": "ht2z-I0oQ0xG",
    "outputId": "1100f72c-0496-427f-c4a5-a74fd04e5598"
   },
   "outputs": [
    {
     "name": "stdout",
     "output_type": "stream",
     "text": [
      "Enter page reference string (separated by spaces): 7 0 1 2 0 3 0 4 2 3 0 3 2\n",
      "Enter number of page frames: 4\n",
      "Number of hits: 7\n",
      "Number of page faults: 6\n",
      "Hit ratio: 0.5384615384615384\n"
     ]
    }
   ],
   "source": [
    "def lru(page_ref, num_frames):\n",
    "    frames = [-1] * num_frames\n",
    "    faults = 0\n",
    "    hit = 0\n",
    "    lru_order = []\n",
    "    \n",
    "    for page in page_ref:\n",
    "        if page in frames:\n",
    "            hit += 1\n",
    "            lru_order.remove(page)\n",
    "        else:\n",
    "            if -1 in frames:\n",
    "                idx = frames.index(-1)\n",
    "            else:\n",
    "                lru_page = lru_order.pop(0)\n",
    "                idx = frames.index(lru_page)\n",
    "            frames[idx] = page\n",
    "            faults += 1\n",
    "        lru_order.append(page)\n",
    "    \n",
    "    hit_ratio = hit / len(page_ref)\n",
    "    return faults, hit_ratio, hit\n",
    "\n",
    "\n",
    "page_ref = list(map(int, input(\"Enter page reference string (separated by spaces): \").split()))\n",
    "num_frames = int(input(\"Enter number of page frames: \"))\n",
    "\n",
    "faults, hit_ratio, hit = lru(page_ref, num_frames)\n",
    "\n",
    "print(\"Number of hits:\", hit)\n",
    "print(\"Number of page faults:\", faults)\n",
    "print(\"Hit ratio:\", hit_ratio)"
   ]
  },
  {
   "cell_type": "code",
   "execution_count": 16,
   "metadata": {
    "colab": {
     "base_uri": "https://localhost:8080/"
    },
    "id": "6TL-UrYSRCRm",
    "outputId": "acde02bd-9dd5-48a8-db1d-c27f94c38f81"
   },
   "outputs": [
    {
     "name": "stdout",
     "output_type": "stream",
     "text": [
      "Enter page reference string (separated by spaces): 7 0 1 2 0 3 0 4 2 3 0 3 2\n",
      "Enter number of page frames: 4\n",
      "Number of hits: 7\n",
      "Number of page faults: 6\n",
      "Hit_ratio: 0.5384615384615384\n"
     ]
    }
   ],
   "source": [
    "def optimal(page_ref, num_frames):\n",
    "    frames = [-1] * num_frames\n",
    "    faults = 0\n",
    "    hit = 0\n",
    "    for i in range(len(page_ref)):\n",
    "        if page_ref[i] not in frames:\n",
    "            faults += 1\n",
    "            if len(frames) < num_frames:\n",
    "                frames.append(page_ref[i])\n",
    "            else:\n",
    "                distances = []\n",
    "                for j in range(len(frames)):\n",
    "                    if frames[j] in page_ref[i+1:]:\n",
    "                        distances.append(page_ref[i+1:].index(frames[j]))\n",
    "                    else:\n",
    "                        distances.append(len(page_ref))\n",
    "                frames[distances.index(max(distances))] = page_ref[i]\n",
    "    hit = len(page_ref) - faults\n",
    "    return hit,faults\n",
    "\n",
    "\n",
    "page_ref = list(map(int, input(\"Enter page reference string (separated by spaces): \").split()))\n",
    "num_frames = int(input(\"Enter number of page frames: \"))\n",
    "\n",
    "hit, faults = optimal(page_ref, num_frames)\n",
    "\n",
    "print(\"Number of hits:\", hit)\n",
    "print(\"Number of page faults:\", faults)\n",
    "hit_ratio = hit / (hit + faults)\n",
    "print(\"Hit_ratio:\", hit_ratio)"
   ]
  },
  {
   "cell_type": "code",
   "execution_count": null,
   "metadata": {
    "id": "U9cu9Ylt4eUm"
   },
   "outputs": [],
   "source": [
    "def fifo(page_ref, num_frames):\n",
    "    frame_set = set()\n",
    "    frame_queue = []\n",
    "    faults = 0\n",
    "    hit = 0\n",
    "    for page in page_ref:\n",
    "        if page in frame_set:\n",
    "            hit += 1\n",
    "        else:\n",
    "            if len(frame_queue) == num_frames:\n",
    "                oldest_page = frame_queue.pop(0)\n",
    "                frame_set.remove(oldest_page)\n",
    "            frame_set.add(page)\n",
    "            frame_queue.append(page)\n",
    "            faults += 1\n",
    "    return hit, faults\n",
    "\n",
    "page_ref = list(map(int, input(\"Enter page reference string (separated by spaces): \").split()))\n",
    "num_frames = int(input(\"Enter number of page frames: \"))\n",
    "\n",
    "hit, faults = fifo(page_ref, num_frames)\n",
    "\n",
    "print(\"Number of page faults using FIFO algorithm:\", faults)\n",
    "print(\"Number of page hits using FIFO algorithm:\", hit)\n",
    "hit_ratio = hit / len(page_ref)\n",
    "print(\"Hit ratio using FIFO algorithm:\", hit_ratio)"
   ]
  },
  {
   "cell_type": "code",
   "execution_count": 7,
   "metadata": {
    "colab": {
     "base_uri": "https://localhost:8080/"
    },
    "id": "pyiysFuy6hJO",
    "outputId": "b69b286a-f1a5-4f09-bb7b-ce3fe7097856"
   },
   "outputs": [
    {
     "name": "stdout",
     "output_type": "stream",
     "text": [
      "PID\t\tAT\t\tBT\t\tCT\t\tTAT\t\tWT\n",
      "1\t\t0\t\t3\t\t3\t\t3\t\t0\n",
      "2\t\t1\t\t5\t\t8\t\t7\t\t2\n",
      "3\t\t3\t\t2\t\t10\t\t7\t\t5\n",
      "4\t\t9\t\t5\t\t15\t\t6\t\t1\n",
      "5\t\t12\t\t5\t\t20\t\t8\t\t3\n",
      "Avg tat:  6.2\n",
      "Avg wt:  2.2\n"
     ]
    }
   ],
   "source": [
    "#FCFS CPU SCHEDULING\n",
    "class Process:\n",
    "    def __init__(self,process_id,at,bt):\n",
    "        self.process_id= process_id\n",
    "        self.at = at\n",
    "        self.bt = bt\n",
    "def fcfs(processes):\n",
    "    n = len(processes)\n",
    "    ct = [0] * n\n",
    "    tat = [0] * n\n",
    "    wt = [0] * n\n",
    "        \n",
    "    ct[0] = processes[0].bt\n",
    "    for i in range(1,n):\n",
    "        ct[i] = ct[i-1] + processes[i].bt\n",
    "    for i in range(n):\n",
    "        tat[i] = ct[i] - processes[i].at\n",
    "        wt[i] = tat[i] - processes[i].bt\n",
    "        \n",
    "    avg_tat = sum(tat) / n\n",
    "    avg_wt  = sum(wt) / n\n",
    "    \n",
    "    print(\"PID\\t\\tAT\\t\\tBT\\t\\tCT\\t\\tTAT\\t\\tWT\")\n",
    "    for i in range(n):\n",
    "        print(f\"{processes[i].process_id}\\t\\t{processes[i].at}\\t\\t{processes[i].bt}\\t\\t{ct[i]}\\t\\t{tat[i]}\\t\\t{wt[i]}\")\n",
    "    print(\"Avg tat: \", avg_tat)\n",
    "    print(\"Avg wt: \", avg_wt)\n",
    "    \n",
    "processes = [\n",
    "    Process(1, 0, 3),\n",
    "    Process(2, 1, 5),\n",
    "    Process(3, 3, 2),\n",
    "    Process(4, 9, 5),\n",
    "    Process(5, 12, 5)\n",
    "]\n",
    "\n",
    "fcfs(processes)"
   ]
  },
  {
   "cell_type": "code",
   "execution_count": 10,
   "metadata": {
    "colab": {
     "base_uri": "https://localhost:8080/"
    },
    "id": "KFCSlG6L1soE",
    "outputId": "dfdb1a4e-6f8f-4da5-8613-2cc8b0647415"
   },
   "outputs": [
    {
     "name": "stdout",
     "output_type": "stream",
     "text": [
      "PID\t\tAT\t\tBT\t\tCT\t\tTAT\t\tWT\n",
      "1\t\t0\t\t3\t\t3\t\t3\t\t0\n",
      "3\t\t0\t\t3\t\t6\t\t6\t\t3\n",
      "2\t\t0\t\t4\t\t10\t\t10\t\t6\n",
      "Avg tat:  6.333333333333333\n",
      "Avg wt:  3.0\n"
     ]
    }
   ],
   "source": [
    "#SJF CPU SCHEDULING\n",
    "class Process:\n",
    "    def __init__(self,process_id,at,bt):\n",
    "        self.process_id= process_id\n",
    "        self.at = at\n",
    "        self.bt = bt\n",
    "def sjf(processes):\n",
    "    processes.sort(key = lambda x: (x.at, x.bt))\n",
    "    n = len(processes)\n",
    "    ct = [0] * n\n",
    "    tat = [0] * n\n",
    "    wt = [0] * n\n",
    "        \n",
    "    ct[0] = processes[0].bt\n",
    "    for i in range(1,n):\n",
    "        ct[i] = ct[i-1] + processes[i].bt\n",
    "    for i in range(n):\n",
    "        tat[i] = ct[i] - processes[i].at\n",
    "        wt[i] = tat[i] - processes[i].bt\n",
    "        \n",
    "    avg_tat = sum(tat) / n\n",
    "    avg_wt  = sum(wt) / n\n",
    "    \n",
    "    print(\"PID\\t\\tAT\\t\\tBT\\t\\tCT\\t\\tTAT\\t\\tWT\")\n",
    "    for i in range(n):\n",
    "        print(f\"{processes[i].process_id}\\t\\t{processes[i].at}\\t\\t{processes[i].bt}\\t\\t{ct[i]}\\t\\t{tat[i]}\\t\\t{wt[i]}\")\n",
    "    print(\"Avg tat: \", avg_tat)\n",
    "    print(\"Avg wt: \", avg_wt)\n",
    "    \n",
    "processes = [\n",
    "    Process(1, 0, 3),\n",
    "    Process(2, 0, 4),\n",
    "    Process(3, 0, 3)\n",
    "]\n",
    "\n",
    "sjf(processes)"
   ]
  },
  {
   "cell_type": "code",
   "execution_count": 11,
   "metadata": {
    "colab": {
     "base_uri": "https://localhost:8080/"
    },
    "id": "RAinCsYu81Zo",
    "outputId": "e251a050-3774-43e6-f03a-871081b60215"
   },
   "outputs": [
    {
     "name": "stdout",
     "output_type": "stream",
     "text": [
      "Process\tBurst Time\tPriority\tCompletion Time\tTurnaround Time\tWaiting Time\n",
      "2\t\t4\t\t1\t\t4\t\t4\t\t0\n",
      "1\t\t9\t\t2\t\t13\t\t13\t\t4\n",
      "3\t\t9\t\t3\t\t22\t\t22\t\t13\n",
      "Average Turnaround Time: 13.0\n",
      "Average Waiting Time: 5.666666666666667\n"
     ]
    }
   ],
   "source": [
    "#Non-preemptive priority\n",
    "class Process:\n",
    "    def __init__(self, process_id, burst_time, priority):\n",
    "        self.process_id = process_id\n",
    "        self.burst_time = burst_time\n",
    "        self.priority = priority\n",
    "\n",
    "def non_preemptive_priority_scheduling(processes):\n",
    "    # Sort the processes based on priority (lower number = higher priority)\n",
    "    processes.sort(key=lambda x: x.priority)\n",
    "\n",
    "    completion_time = [0] * len(processes)\n",
    "    turnaround_time = [0] * len(processes)\n",
    "    waiting_time = [0] * len(processes)\n",
    "\n",
    "    completion_time[0] = processes[0].burst_time\n",
    "    for i in range(1, len(processes)):\n",
    "        completion_time[i] = completion_time[i - 1] + processes[i].burst_time\n",
    "\n",
    "    for i in range(len(processes)):\n",
    "        turnaround_time[i] = completion_time[i]\n",
    "        waiting_time[i] = turnaround_time[i] - processes[i].burst_time\n",
    "\n",
    "    total_turnaround_time = sum(turnaround_time)\n",
    "    total_waiting_time = sum(waiting_time)\n",
    "    average_turnaround_time = total_turnaround_time / len(processes)\n",
    "    average_waiting_time = total_waiting_time / len(processes)\n",
    "\n",
    "    # Print the results\n",
    "    print(\"Process\\tBurst Time\\tPriority\\tCompletion Time\\tTurnaround Time\\tWaiting Time\")\n",
    "    for i in range(len(processes)):\n",
    "        print(f\"{processes[i].process_id}\\t\\t{processes[i].burst_time}\\t\\t{processes[i].priority}\\t\\t\"\n",
    "              f\"{completion_time[i]}\\t\\t{turnaround_time[i]}\\t\\t{waiting_time[i]}\")\n",
    "    print(\"Average Turnaround Time:\", average_turnaround_time)\n",
    "    print(\"Average Waiting Time:\", average_waiting_time)\n",
    "\n",
    "# Example usage\n",
    "processes = [\n",
    "    Process(1, 9, 2),\n",
    "    Process(2, 4, 1),\n",
    "    Process(3, 9, 3)\n",
    "]\n",
    "\n",
    "non_preemptive_priority_scheduling(processes)"
   ]
  },
  {
   "cell_type": "code",
   "execution_count": 14,
   "metadata": {
    "colab": {
     "base_uri": "https://localhost:8080/"
    },
    "id": "7PUqsGHgAY_5",
    "outputId": "b3e2992e-1d69-4cff-85e6-74d51bbee514"
   },
   "outputs": [
    {
     "name": "stdout",
     "output_type": "stream",
     "text": [
      "Enter the block size list: 100 500 200 300 600\n",
      "Enter the process size list: 212 417 112 426\n",
      "Process No. \t Process Size \t Block No.\n",
      "1 \t\t 212\t\t\t2\n",
      "2 \t\t 417\t\t\t5\n",
      "3 \t\t 112\t\t\t2\n",
      "4 \t\t 426\t\t\tNo block allocated\n"
     ]
    }
   ],
   "source": [
    "#First fit\n",
    "def firstFit(blockSize,processSize):\n",
    "  n = len(blockSize)\n",
    "  m = len(processSize)\n",
    "  allocation = [-1]*m \n",
    "  for i in range(m):\n",
    "    for j in range(n):\n",
    "      if blockSize[j] >= processSize[i]:\n",
    "        allocation[i] = j\n",
    "        blockSize[j] -= processSize[i]\n",
    "        break\n",
    "\n",
    "  print(\"Process No. \\t Process Size \\t Block No.\")\n",
    "  for i in range(m):\n",
    "    print(i+1,\"\\t\\t\",processSize[i],end='\\t\\t\\t')\n",
    "    if allocation[i] != -1:\n",
    "      print(allocation[i] + 1)\n",
    "    else:\n",
    "      print(\"No block allocated\")\n",
    "blockSize = list(map(int, input(\"Enter the block size list: \").split()))\n",
    "processSize = list(map(int, input(\"Enter the process size list: \").split()))\n",
    "firstFit(blockSize,processSize)"
   ]
  },
  {
   "cell_type": "code",
   "execution_count": 15,
   "metadata": {
    "colab": {
     "base_uri": "https://localhost:8080/"
    },
    "id": "zgtv88SkEzsr",
    "outputId": "723c5419-7be6-4d5f-adc9-f0e53465e6f6"
   },
   "outputs": [
    {
     "name": "stdout",
     "output_type": "stream",
     "text": [
      "Enter the block size list: 100 500 200 300 600\n",
      "Enter the process size list: 212 417 112 426\n",
      "Process No. \t Process Size \t Block No.\n",
      "1 \t\t 212\t\t\t4\n",
      "2 \t\t 417\t\t\t2\n",
      "3 \t\t 112\t\t\t3\n",
      "4 \t\t 426\t\t\t5\n"
     ]
    }
   ],
   "source": [
    "# Best Fit\n",
    "def bestFit(blockSize,processSize):\n",
    "  n = len(blockSize)\n",
    "  m = len(processSize)\n",
    "  allocation = [-1]*m\n",
    "  for i in range(m):\n",
    "    bestIndex = -1\n",
    "    minDiff = float('inf')\n",
    "    for j in range(n):\n",
    "      if blockSize[j] >= processSize[i]:\n",
    "        diff = blockSize[j]-processSize[i]\n",
    "        if diff < minDiff:\n",
    "          bestIndex = j\n",
    "          minDiff = diff\n",
    "    if bestIndex != -1:\n",
    "      allocation[i] = bestIndex\n",
    "      blockSize[bestIndex] -= processSize[i]\n",
    "  print(\"Process No. \\t Process Size \\t Block No.\")\n",
    "  for i in range(m):\n",
    "    print(i+1,\"\\t\\t\",processSize[i],end='\\t\\t\\t')\n",
    "    if allocation[i] != -1:\n",
    "      print(allocation[i] + 1)\n",
    "    else:\n",
    "      print(\"No block allocated\")  \n",
    "\n",
    "\n",
    "blockSize = list(map(int, input(\"Enter the block size list: \").split()))\n",
    "processSize = list(map(int, input(\"Enter the process size list: \").split()))\n",
    "bestFit(blockSize,processSize)"
   ]
  },
  {
   "cell_type": "code",
   "execution_count": 16,
   "metadata": {
    "colab": {
     "base_uri": "https://localhost:8080/"
    },
    "id": "cqFRLLs0KHjN",
    "outputId": "c9f80764-d0e0-4f3d-87bb-ceb78fcf3608"
   },
   "outputs": [
    {
     "name": "stdout",
     "output_type": "stream",
     "text": [
      "Enter the block size list: 100 500 200 300 600\n",
      "Enter the process size list: 212 417 112 426\n",
      "Process No. \t Process Size \t Block No.\n",
      "1 \t\t 212\t\t\t4\n",
      "2 \t\t 417\t\t\t2\n",
      "3 \t\t 112\t\t\t3\n",
      "4 \t\t 426\t\t\t5\n"
     ]
    }
   ],
   "source": [
    "def worstFit(blockSize,processSize):\n",
    "  n = len(blockSize)\n",
    "  m = len(processSize)\n",
    "  allocation = [-1]*m\n",
    "  for i in range(m):\n",
    "    worstIndex = -1\n",
    "    for j in range(n):\n",
    "      if blockSize[j] >= processSize[i]:\n",
    "        if worstIndex == -1:\n",
    "          worstIndex = j\n",
    "        elif blockSize[worstIndex] < blockSize[j]:\n",
    "          worstIndex = j\n",
    "    if worstIndex != -1:\n",
    "      allocation[i] = worstIndex\n",
    "      blockSize[worstIndex] -= processSize[i]\n",
    "  print(\"Process No. \\t Process Size \\t Block No.\")\n",
    "  for i in range(m):\n",
    "    print(i+1,\"\\t\\t\",processSize[i],end='\\t\\t\\t')\n",
    "    if allocation[i] != -1:\n",
    "      print(allocation[i] + 1)\n",
    "    else:\n",
    "      print(\"No block allocated\")  \n",
    "\n",
    "blockSize = list(map(int, input(\"Enter the block size list: \").split()))\n",
    "processSize = list(map(int, input(\"Enter the process size list: \").split()))\n",
    "bestFit(blockSize,processSize)   "
   ]
  },
  {
   "cell_type": "code",
   "execution_count": 23,
   "metadata": {
    "colab": {
     "base_uri": "https://localhost:8080/"
    },
    "id": "r4rtYowLcCnR",
    "outputId": "0db9f1f6-eae4-44ee-8293-41898588aba8"
   },
   "outputs": [
    {
     "name": "stdout",
     "output_type": "stream",
     "text": [
      "Total seek time: 661\n",
      "Sequence: [55, 93, 176, 42, 148, 27, 14, 180]\n"
     ]
    }
   ],
   "source": [
    "def FCFS(requests,head):\n",
    "  sequence = [head]+requests\n",
    "  seekTime=sum(abs(sequence[i+1]-sequence[i])for i in range(len(sequence)-1))\n",
    "  return seekTime,sequence\n",
    "     \n",
    "n = 200\n",
    "head = 55\n",
    "requests = [93, 176, 42, 148, 27, 14, 180]\n",
    "seekTime, sequence = FCFS(requests,head)\n",
    "print(\"Total seek time:\", seekTime)\n",
    "print(\"Sequence:\", sequence)"
   ]
  },
  {
   "cell_type": "code",
   "execution_count": 24,
   "metadata": {
    "colab": {
     "base_uri": "https://localhost:8080/"
    },
    "id": "T_YlZRWLcTPz",
    "outputId": "90ee5e3d-4bbc-4565-cac7-5ec52771c204"
   },
   "outputs": [
    {
     "name": "stdout",
     "output_type": "stream",
     "text": [
      "Total seek time: 208\n",
      "Seek sequence: [50, 43, 24, 16, 82, 140, 170]\n"
     ]
    }
   ],
   "source": [
    "def SSTF(requests, head):\n",
    "    total_seek_time = 0\n",
    "    sequence = []\n",
    "    \n",
    "    while requests:\n",
    "        closest_request = min(requests, key=lambda x: abs(x-head))\n",
    "        sequence.append(head)\n",
    "        total_seek_time += abs(closest_request - head)\n",
    "        head = closest_request\n",
    "        requests.remove(closest_request)\n",
    "        \n",
    "    return total_seek_time,sequence\n",
    "n = 200\n",
    "head = 50\n",
    "requests = [82, 170, 43, 140, 24, 16, 190]\n",
    "seekTime,sequence = SSTF(requests,head)\n",
    "print(\"Total seek time:\", seekTime)\n",
    "print(\"Seek sequence:\", sequence)\n",
    "     "
   ]
  },
  {
   "cell_type": "code",
   "execution_count": 29,
   "metadata": {
    "colab": {
     "base_uri": "https://localhost:8080/"
    },
    "id": "CUXwkVGIcbFZ",
    "outputId": "b28247fc-7510-4590-cdd5-fcdafa6c9568"
   },
   "outputs": [
    {
     "name": "stdout",
     "output_type": "stream",
     "text": [
      "Total seek time: 337\n",
      "Seek sequence: [50, 62, 64, 95, 119, 123, 180, 199, 34, 11]\n"
     ]
    }
   ],
   "source": [
    "def SCAN(head,n,request):\n",
    "  sequence = sorted(requests)\n",
    "  if head in sequence:\n",
    "    sequence.remove(head)\n",
    "  sequence = [head]+[i for i in sequence if i>head]+[n]+[i for i in reversed(sequence) if i<head]\n",
    "  seekTime=sum(abs(sequence[i+1]-sequence[i])for i in range(len(sequence)-1))\n",
    "  return seekTime,sequence\n",
    "requests = [95, 180, 34, 119, 11, 123, 62, 64]\n",
    "head = 50\n",
    "n = 199\n",
    "\n",
    "seekTime, sequence = SCAN(head,n,requests)\n",
    "\n",
    "print(\"Total seek time:\", seekTime)\n",
    "print(\"Seek sequence:\", sequence)"
   ]
  },
  {
   "cell_type": "code",
   "execution_count": 32,
   "metadata": {
    "colab": {
     "base_uri": "https://localhost:8080/"
    },
    "id": "q3akkTCzgfpg",
    "outputId": "4dffb97e-bdde-4919-e05c-12b5607790ea"
   },
   "outputs": [
    {
     "name": "stdout",
     "output_type": "stream",
     "text": [
      "Total seek time: 382\n",
      "Seek sequence: [50, 62, 64, 95, 119, 123, 180, 199, 0, 11, 34]\n"
     ]
    }
   ],
   "source": [
    "def C_SCAN(head,n,request):\n",
    "  sequence = sorted(requests)\n",
    "  if head in sequence:\n",
    "    sequence.remove(head)\n",
    "  sequence = [head]+[i for i in sequence if i>head]+[n]+[0]+[i for i in sequence if i<head]\n",
    "  seekTime=sum(abs(sequence[i+1]-sequence[i])for i in range(len(sequence)-1))\n",
    "  return seekTime,sequence\n",
    "requests = [95, 180, 34, 119, 11, 123, 62, 64]\n",
    "head = 50\n",
    "n = 199\n",
    "\n",
    "seekTime, sequence = C_SCAN(head,n,requests)\n",
    "\n",
    "print(\"Total seek time:\", seekTime)\n",
    "print(\"Seek sequence:\", sequence)"
   ]
  },
  {
   "cell_type": "code",
   "execution_count": 33,
   "metadata": {
    "colab": {
     "base_uri": "https://localhost:8080/"
    },
    "id": "wnybubX_hnuV",
    "outputId": "3095a1a5-057f-41cb-d9ca-4ecae07959f2"
   },
   "outputs": [
    {
     "name": "stdout",
     "output_type": "stream",
     "text": [
      "Total seek time: 299\n",
      "Seek sequence: [50, 62, 64, 95, 119, 123, 180, 34, 11]\n"
     ]
    }
   ],
   "source": [
    "def LOOK(head,n,request):\n",
    "  sequence = sorted(requests)\n",
    "  if head in sequence:\n",
    "    sequence.remove(head)\n",
    "  sequence=[head]+[i for i in sequence if i > head] + [i for i in reversed(sequence) if i < head]\n",
    "  seekTime=sum(abs(sequence[i+1]-sequence[i])for i in range(len(sequence)-1))\n",
    "  return seekTime,sequence\n",
    "requests = [95, 180, 34, 119, 11, 123, 62, 64]\n",
    "head = 50\n",
    "n = 199\n",
    "\n",
    "seekTime, seekSequence = LOOK(head,n,requests)\n",
    "\n",
    "print(\"Total seek time:\", seekTime)\n",
    "print(\"Seek sequence:\", seekSequence)"
   ]
  },
  {
   "cell_type": "code",
   "execution_count": 35,
   "metadata": {
    "colab": {
     "base_uri": "https://localhost:8080/"
    },
    "id": "YrYHTZ8_h6Vr",
    "outputId": "8acdfdc5-2759-4ad1-98b7-7fbcc3fcb9e6"
   },
   "outputs": [
    {
     "name": "stdout",
     "output_type": "stream",
     "text": [
      "Enter the number of processes: 5\n",
      "Enter the number of resources: 3\n",
      "Enter the processes: 0 1 2 3 4\n",
      "Enter the available matrix: \n",
      "2 \n",
      "1 \n",
      "0\n",
      "Enter the maximum matrix: \n",
      "4 3 3\n",
      "3 2 2 \n",
      "9 0 2\n",
      "7 5 3\n",
      "1 1 2\n",
      "Enter the allocation matrix: \n",
      "1 1 2\n",
      "1 1 2\n",
      "4 0 1\n",
      "0 2 0\n",
      "2 1 2\n",
      "System is in safe state\n",
      "Safe Sequence:  [1, 4, 0, 2, 3]\n",
      "P1 P4 P0 P2 P3 \n",
      "\n"
     ]
    }
   ],
   "source": [
    "#b1\n",
    "n = int(input(\"Enter the number of processes: \"))\n",
    "r = int(input(\"Enter the number of resources: \"))\n",
    "\n",
    "def calculateNeed(need,max,allocation):\n",
    "  for i in range(n):\n",
    "    for j in range(r):\n",
    "      need[i][j] =  max[i][j] - allocation[i][j]\n",
    "\n",
    "def bankers(processes,available,max,allocation):\n",
    "  #initializing the need matrix with all 0's\n",
    "  need = []\n",
    "  for i in range(n):\n",
    "    l = []\n",
    "    for j in range(r):\n",
    "      l.append(0)\n",
    "    need.append(l)\n",
    "  #calculating the need of each process and updating the need matrix\n",
    "  calculateNeed(need,max,allocation)\n",
    "\n",
    "  #making a copy of available resource\n",
    "  work = [0]*r\n",
    "  for i in range(r):\n",
    "    work[i] = available[i]\n",
    "\n",
    "  #initializing the finish array and safe sequence array\n",
    "  finished = [0]*n\n",
    "  safeSeq = [0]*n\n",
    "\n",
    "  #while our count is less than the number of processes i.e. all processes are not finished\n",
    "  count = 0\n",
    "  while(count < n):\n",
    "    found = False\n",
    "    for i in range(n):\n",
    "      # first we check if the process is not finished i.e. finished[i] == 0\n",
    "      if(finished[i] == 0):\n",
    "        for j in range(r):\n",
    "          #if our need is greater than the available resources break\n",
    "          if need[i][j] > work[j]:\n",
    "            break\n",
    "        if j == r-1:\n",
    "          for k in range(r):\n",
    "            work[k] += allocation[i][k]\n",
    "          safeSeq[count] = i\n",
    "          count += 1\n",
    "          finished[i] = 1\n",
    "          found = True\n",
    "\n",
    "    # if we could not find a safe process\n",
    "    if found == False:\n",
    "      print(\"System is in unsafe state\")\n",
    "      return False\n",
    "\n",
    "  #if we exit the while loop without breaking or returning false in between it means the system is in safe state\n",
    "  print(\"System is in safe state\")\n",
    "  print(\"Safe Sequence: \",safeSeq)\n",
    "  for i in range(len(safeSeq)):\n",
    "    print(\"P\"+str(safeSeq[i]),end=\" \")\n",
    "  print(\"\\n\")\n",
    "\n",
    "#process array user input\n",
    "processes = list(map(int, input(\"Enter the processes: \").split()))\n",
    "\n",
    "#available matrix user input\n",
    "available = []\n",
    "print(\"Enter the available matrix: \")\n",
    "for i in range(r):\n",
    "  a = int(input())\n",
    "  available.append(a)\n",
    "\n",
    "#maximum matrix user input\n",
    "max = []\n",
    "print(\"Enter the maximum matrix: \")\n",
    "for i in range(n):\n",
    "  m = list(map(int, input().split()))\n",
    "  max.append(m)\n",
    "\n",
    "#allocation matrix user input\n",
    "allocation = []\n",
    "print(\"Enter the allocation matrix: \")\n",
    "for i in range(n):\n",
    "  al = list(map(int, input().split()))\n",
    "  allocation.append(al)\n",
    "\n",
    "bankers(processes,available,max,allocation)"
   ]
  },
  {
   "cell_type": "code",
   "execution_count": 36,
   "metadata": {
    "colab": {
     "base_uri": "https://localhost:8080/"
    },
    "id": "djQufwTPl6n9",
    "outputId": "251fab22-b49a-423b-9fca-e58aa8929ae2"
   },
   "outputs": [
    {
     "name": "stdout",
     "output_type": "stream",
     "text": [
      "The system is Safe\n",
      "Safe Sequence:  [1 3 4 0 2]\n",
      "Available Resource: [10  5  7]\n"
     ]
    }
   ],
   "source": [
    "#bankers algorithm\n",
    "import numpy as np\n",
    "\n",
    "no_of_processes = 5\n",
    "no_of_requests = 3\n",
    "Sequence = np.zeros((no_of_processes,),dtype=int)\n",
    "visited = np.zeros((no_of_processes,),dtype=int)\n",
    "allocated = np.array([[0, 1, 0], [2, 0, 0],\n",
    "             [3, 0, 2], [2, 1, 1],\n",
    "             [0, 0, 2]])\n",
    "maximum = np.array([[7, 5, 3], [3, 2, 2],\n",
    "            [9, 0, 2], [2, 2, 2],\n",
    "            [4, 3, 3]])\n",
    "needed = maximum - allocated\n",
    "available = np.array([3, 3, 2])\n",
    "\n",
    "def check(i):\n",
    "    for j in range(no_of_requests):\n",
    "        if(needed[i][j]>available[j]):\n",
    "            return 0\n",
    "    return 1\n",
    "\n",
    "count = 0\n",
    "while( count < no_of_processes ):\n",
    "    temp=0\n",
    "    for i in range( no_of_processes ):\n",
    "        if( visited[i] == 0 ):\n",
    "            if(check(i)):\n",
    "                Sequence[count]=i;\n",
    "                count+=1\n",
    "                visited[i]=1\n",
    "                temp=1\n",
    "                for j in range(no_of_requests):\n",
    "                    available[j] += allocated[i][j] \n",
    "    if(temp == 0):\n",
    "        break\n",
    "if(count < no_of_processes):\n",
    "    print('The system is Unsafe')\n",
    "else:\n",
    "    print(\"The system is Safe\")\n",
    "    print(\"Safe Sequence: \",Sequence)\n",
    "    print(\"Available Resource:\",available)"
   ]
  },
  {
   "cell_type": "code",
   "execution_count": null,
   "metadata": {},
   "outputs": [],
   "source": []
  },
  {
   "cell_type": "code",
   "execution_count": null,
   "metadata": {},
   "outputs": [],
   "source": []
  },
  {
   "cell_type": "code",
   "execution_count": null,
   "metadata": {},
   "outputs": [],
   "source": []
  },
  {
   "cell_type": "code",
   "execution_count": null,
   "metadata": {},
   "outputs": [],
   "source": []
  },
  {
   "cell_type": "code",
   "execution_count": 38,
   "metadata": {
    "colab": {
     "base_uri": "https://localhost:8080/"
    },
    "id": "T9gI0o5anRz5",
    "outputId": "710da4dc-4ce4-497f-c789-b736cc527837"
   },
   "outputs": [
    {
     "name": "stdout",
     "output_type": "stream",
     "text": [
      "The system is Safe\n",
      "safe sequence is: [1, 3, 4, 0, 2]\n",
      "Available Resource: [10  5  7]\n"
     ]
    }
   ],
   "source": [
    "#b3\n",
    "n=5\n",
    "m=3\n",
    "alloc=[[0,1,0],[2,0,0],[3,0,2],[2,1,1],[0,0,2]]\n",
    "max=[[7, 5, 3], [3, 2, 2], [9, 0, 2], [2, 2, 2], [4, 3, 3]]\n",
    "avail=[3,3,2]\n",
    "f=[0]*n\n",
    "ans=[]\n",
    "need=[[max[i][j]-alloc[i][j] for j in range(m)]for i in range(n)]\n",
    "for k in range(n):\n",
    "  for i in range(n):\n",
    "    if f[i]==0 and all(need[i][j]<=avail[j] for j in range(m)):\n",
    "      ans.append(i)\n",
    "      f[i]=1\n",
    "      for y in range(m):\n",
    "        avail[y]+=alloc[i][y]\n",
    "  if len(ans)==n:\n",
    "    print(\"The system is Safe\")\n",
    "    print(\"safe sequence is:\", ans)\n",
    "    print(\"Available Resource:\",available)\n",
    "    break\n",
    "else:\n",
    "  print(\"not safe\")"
   ]
  },
  {
   "cell_type": "code",
   "execution_count": null,
   "metadata": {},
   "outputs": [],
   "source": [
    "LINUX COMMANDS\n",
    "\n",
    "Q1. Display top 10 processes in descending order\n",
    "    \tps aux --sort=-%cpu | head -11\n",
    "\t\n",
    "Q2. Display processes with highest memory usage.\n",
    "\tps aux --sort=-%mem | head -11\n",
    "\n",
    "Q3. Display current logged in user and logname\n",
    "\techo \"Current user: $(whoami)\"\n",
    "\techo \"Logname: $(logname)\n",
    "\n",
    "Q4. Display current shell, home directory, operating system type, current path setting, \n",
    "    current working directory.\n",
    "\techo $SHELL\n",
    "\techo $HOME\n",
    "\tuname -s\n",
    "\techo $PATH\n",
    "\tpwd\n",
    "\n",
    "Q5. Display OS version, release number, kernel version.\n",
    "\tlsb_release -a\n",
    "\tuname -r\n",
    "\n",
    "Q6. Write a command to display the first 15 columns from each line in the file\n",
    "\tcut -f 1-15 <filename>\n",
    "\n",
    "Q7. Cut specified columns from a file and display them\n",
    "\tcut -f <columns> <filename>\n",
    "  Ex. cut -f 2,4,6 data.txt\n",
    "\n",
    "Q8. Sort given file ignoring upper and lower case\n",
    "\tsort -f data.txt\n",
    "\n",
    "Q9. Displays only directories in current working directory\n",
    "\tls -d */\n",
    "\n",
    "Q10. copying files from one place to another,\n",
    "\tcp file.txt /path/to/destination/\n",
    "\tcp -r directory/ /path/to/destination/ (FOR COPYING A DIRECTORY)\n",
    "\n",
    "Q11. Moving files from one place to other\n",
    "\tmv file.txt /path/to/destination/\n",
    "\n",
    "Q12.  Remove a directory and its contents recursively (including subdirectories): rm -r <directory>\n",
    "\tPrompt for confirmation before removing each file or directory:rm -i <directory>\n",
    "\tRemove a directory and its contents forcefully without prompting for confirmation:rm -rf <directory>\n",
    "\tRemove a directory and display verbose output:rm -v <directory>\n",
    "\n",
    "Q13. List the numbers of users currently login in the system and then sort it.\n",
    "\twho | cut -d ' ' -f 1 | sort | uniq\n",
    "\n",
    "Q14. Merge two files into one\n",
    "\tcat file1.txt file2.txt > merged.txt\n",
    "\n",
    "Q15. Change the access mode of one file\n",
    "\tchmod +x fileName.txt\n",
    "\n",
    "Q16. Display the last ten lines of the file.\n",
    "\ttail -n 10 myfile.txt\n",
    "\n",
    "Q17. To locate files in a directory and in a subdirectory.\n",
    "\tfind . -type f -name \"myfile.txt\"\n",
    "\tgrep -r \"<filename>\" <directory>\n",
    "\n",
    "Q18. This displays the contents of all files having a name starting with ap followed \n",
    "by any number of characters\n",
    "\tcat ap*\n",
    "\n",
    "Q19. Rename any file aaa to aaa.aa1, where aa1 is the user login name\n",
    "\t mv file2.txt aaaa.$LOGNAME\n",
    "\n",
    "Q20. Write a command to search the word ‘picture’ in the file and if found, the lines containing it \n",
    "would be displayed on the screen.\n",
    "\tgrep \"picture\" example.txt\n",
    "\n",
    "Q21. Write a command to search for all occurrences of ‘Rebecca’ as well as ‘rebecca’ in file and \n",
    "display the lines which contain one of these words.\n",
    "\tgrep -i \"Rebecca\\|rebecca\" example.txt\n",
    "\n",
    "Q22. Write a command to search all four-letter words whose first letter is a ‘b’ and last letter, a \n",
    "‘k’.\n",
    "\tgrep -E \"\\b[bB][a-zA-Z]{2}k\\b\" example.txt\n",
    "\tgrep '^b..k$' file.txt\n",
    "\n",
    "Q23. Write a command to see only those lines which do not contain the search patterns\n",
    "\tgrep -v \"apple\\|banana\" example.txt"
   ]
  }
 ],
 "metadata": {
  "colab": {
   "provenance": []
  },
  "kernelspec": {
   "display_name": "Python 3 (ipykernel)",
   "language": "python",
   "name": "python3"
  },
  "language_info": {
   "codemirror_mode": {
    "name": "ipython",
    "version": 3
   },
   "file_extension": ".py",
   "mimetype": "text/x-python",
   "name": "python",
   "nbconvert_exporter": "python",
   "pygments_lexer": "ipython3",
   "version": "3.9.13"
  }
 },
 "nbformat": 4,
 "nbformat_minor": 1
}
